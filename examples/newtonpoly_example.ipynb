{
 "cells": [
  {
   "cell_type": "markdown",
   "metadata": {},
   "source": [
    "# Example Script for Newton's Interpolating Polynomial (kerr.newtonpoly)"
   ]
  },
  {
   "cell_type": "code",
   "execution_count": 1,
   "metadata": {
    "collapsed": false
   },
   "outputs": [
    {
     "name": "stdout",
     "output_type": "stream",
     "text": [
      "\u001b[93mkerr##\u001b[0m Found formula module \"\u001b[92mksm2_cw\u001b[0m\"\n",
      "\u001b[93mkerr##\u001b[0m Found formula module \"\u001b[92mksm2_sc\u001b[0m\"\n",
      "\u001b[93mkerr##\u001b[0m Found formula module \"\u001b[92mmmrdns_amplitudes\u001b[0m\"\n",
      "\u001b[93mkerr##\u001b[0m Found formula module \"\u001b[92mmmrdns_Mfjf\u001b[0m\"\n"
     ]
    },
    {
     "data": {
      "text/html": [
       "\n",
       "    <div class=\"bk-root\">\n",
       "        <a href=\"http://bokeh.pydata.org\" target=\"_blank\" class=\"bk-logo bk-logo-small bk-logo-notebook\"></a>\n",
       "        <span id=\"d04431cb-078e-4f95-b451-f9d607903df9\">Loading BokehJS ...</span>\n",
       "    </div>"
      ]
     },
     "metadata": {},
     "output_type": "display_data"
    },
    {
     "data": {
      "application/javascript": [
       "\n",
       "(function(global) {\n",
       "  function now() {\n",
       "    return new Date();\n",
       "  }\n",
       "\n",
       "  if (typeof (window._bokeh_onload_callbacks) === \"undefined\") {\n",
       "    window._bokeh_onload_callbacks = [];\n",
       "  }\n",
       "\n",
       "  function run_callbacks() {\n",
       "    window._bokeh_onload_callbacks.forEach(function(callback) { callback() });\n",
       "    delete window._bokeh_onload_callbacks\n",
       "    console.info(\"Bokeh: all callbacks have finished\");\n",
       "  }\n",
       "\n",
       "  function load_libs(js_urls, callback) {\n",
       "    window._bokeh_onload_callbacks.push(callback);\n",
       "    if (window._bokeh_is_loading > 0) {\n",
       "      console.log(\"Bokeh: BokehJS is being loaded, scheduling callback at\", now());\n",
       "      return null;\n",
       "    }\n",
       "    if (js_urls == null || js_urls.length === 0) {\n",
       "      run_callbacks();\n",
       "      return null;\n",
       "    }\n",
       "    console.log(\"Bokeh: BokehJS not loaded, scheduling load and callback at\", now());\n",
       "    window._bokeh_is_loading = js_urls.length;\n",
       "    for (var i = 0; i < js_urls.length; i++) {\n",
       "      var url = js_urls[i];\n",
       "      var s = document.createElement('script');\n",
       "      s.src = url;\n",
       "      s.async = false;\n",
       "      s.onreadystatechange = s.onload = function() {\n",
       "        window._bokeh_is_loading--;\n",
       "        if (window._bokeh_is_loading === 0) {\n",
       "          console.log(\"Bokeh: all BokehJS libraries loaded\");\n",
       "          run_callbacks()\n",
       "        }\n",
       "      };\n",
       "      s.onerror = function() {\n",
       "        console.warn(\"failed to load library \" + url);\n",
       "      };\n",
       "      console.log(\"Bokeh: injecting script tag for BokehJS library: \", url);\n",
       "      document.getElementsByTagName(\"head\")[0].appendChild(s);\n",
       "    }\n",
       "  };\n",
       "\n",
       "  var js_urls = ['https://cdn.pydata.org/bokeh/release/bokeh-0.12.0.min.js', 'https://cdn.pydata.org/bokeh/release/bokeh-widgets-0.12.0.min.js', 'https://cdn.pydata.org/bokeh/release/bokeh-compiler-0.12.0.min.js'];\n",
       "\n",
       "  var inline_js = [\n",
       "    function(Bokeh) {\n",
       "      Bokeh.set_log_level(\"info\");\n",
       "    },\n",
       "    \n",
       "    function(Bokeh) {\n",
       "      Bokeh.$(\"#d04431cb-078e-4f95-b451-f9d607903df9\").text(\"BokehJS successfully loaded\");\n",
       "    },\n",
       "    function(Bokeh) {\n",
       "      console.log(\"Bokeh: injecting CSS: https://cdn.pydata.org/bokeh/release/bokeh-0.12.0.min.css\");\n",
       "      Bokeh.embed.inject_css(\"https://cdn.pydata.org/bokeh/release/bokeh-0.12.0.min.css\");\n",
       "      console.log(\"Bokeh: injecting CSS: https://cdn.pydata.org/bokeh/release/bokeh-widgets-0.12.0.min.css\");\n",
       "      Bokeh.embed.inject_css(\"https://cdn.pydata.org/bokeh/release/bokeh-widgets-0.12.0.min.css\");\n",
       "    }\n",
       "  ];\n",
       "\n",
       "  function run_inline_js() {\n",
       "    for (var i = 0; i < inline_js.length; i++) {\n",
       "      inline_js[i](window.Bokeh);\n",
       "    }\n",
       "  }\n",
       "\n",
       "  if (window._bokeh_is_loading === 0) {\n",
       "    console.log(\"Bokeh: BokehJS loaded, going straight to plotting\");\n",
       "    run_inline_js();\n",
       "  } else {\n",
       "    load_libs(js_urls, function() {\n",
       "      console.log(\"Bokeh: BokehJS plotting callback run at\", now());\n",
       "      run_inline_js();\n",
       "    });\n",
       "  }\n",
       "}(this));"
      ]
     },
     "metadata": {},
     "output_type": "display_data"
    }
   ],
   "source": [
    "# Import useful things\n",
    "%matplotlib inline\n",
    "from numpy import array,linspace,sin\n",
    "from kerr import newtonpoly\n",
    "\n",
    "from bokeh.io import push_notebook, show, output_notebook\n",
    "from bokeh.plotting import figure\n",
    "output_notebook()\n",
    "\n",
    "# from matplotlib.pyplot import *"
   ]
  },
  {
   "cell_type": "code",
   "execution_count": 2,
   "metadata": {
    "collapsed": false
   },
   "outputs": [],
   "source": [
    "# Generate some data over which to interpolate\n",
    "x = linspace(0,10,20)\n",
    "y = 10*sin(2*x)"
   ]
  },
  {
   "cell_type": "code",
   "execution_count": 3,
   "metadata": {
    "collapsed": true
   },
   "outputs": [],
   "source": [
    "# Use teh raw data points to create a function object for the polynomial\n",
    "P = newtonpoly(x,y)"
   ]
  },
  {
   "cell_type": "code",
   "execution_count": 4,
   "metadata": {
    "collapsed": true
   },
   "outputs": [],
   "source": [
    "# Define a domain over which to interpolate\n",
    "xx = linspace(0,max(x),200)"
   ]
  },
  {
   "cell_type": "code",
   "execution_count": 5,
   "metadata": {
    "collapsed": false
   },
   "outputs": [
    {
     "data": {
      "text/html": [
       "\n",
       "\n",
       "    <div class=\"bk-root\">\n",
       "        <div class=\"plotdiv\" id=\"b19268b2-b349-4689-b1e7-d975c63f04cb\"></div>\n",
       "    </div>\n",
       "<script type=\"text/javascript\">\n",
       "  \n",
       "  (function(global) {\n",
       "    function now() {\n",
       "      return new Date();\n",
       "    }\n",
       "  \n",
       "    if (typeof (window._bokeh_onload_callbacks) === \"undefined\") {\n",
       "      window._bokeh_onload_callbacks = [];\n",
       "    }\n",
       "  \n",
       "    function run_callbacks() {\n",
       "      window._bokeh_onload_callbacks.forEach(function(callback) { callback() });\n",
       "      delete window._bokeh_onload_callbacks\n",
       "      console.info(\"Bokeh: all callbacks have finished\");\n",
       "    }\n",
       "  \n",
       "    function load_libs(js_urls, callback) {\n",
       "      window._bokeh_onload_callbacks.push(callback);\n",
       "      if (window._bokeh_is_loading > 0) {\n",
       "        console.log(\"Bokeh: BokehJS is being loaded, scheduling callback at\", now());\n",
       "        return null;\n",
       "      }\n",
       "      if (js_urls == null || js_urls.length === 0) {\n",
       "        run_callbacks();\n",
       "        return null;\n",
       "      }\n",
       "      console.log(\"Bokeh: BokehJS not loaded, scheduling load and callback at\", now());\n",
       "      window._bokeh_is_loading = js_urls.length;\n",
       "      for (var i = 0; i < js_urls.length; i++) {\n",
       "        var url = js_urls[i];\n",
       "        var s = document.createElement('script');\n",
       "        s.src = url;\n",
       "        s.async = false;\n",
       "        s.onreadystatechange = s.onload = function() {\n",
       "          window._bokeh_is_loading--;\n",
       "          if (window._bokeh_is_loading === 0) {\n",
       "            console.log(\"Bokeh: all BokehJS libraries loaded\");\n",
       "            run_callbacks()\n",
       "          }\n",
       "        };\n",
       "        s.onerror = function() {\n",
       "          console.warn(\"failed to load library \" + url);\n",
       "        };\n",
       "        console.log(\"Bokeh: injecting script tag for BokehJS library: \", url);\n",
       "        document.getElementsByTagName(\"head\")[0].appendChild(s);\n",
       "      }\n",
       "    };var element = document.getElementById(\"b19268b2-b349-4689-b1e7-d975c63f04cb\");\n",
       "    if (element == null) {\n",
       "      console.log(\"Bokeh: ERROR: autoload.js configured with elementid 'b19268b2-b349-4689-b1e7-d975c63f04cb' but no matching script tag was found. \")\n",
       "      return false;\n",
       "    }\n",
       "  \n",
       "    var js_urls = [];\n",
       "  \n",
       "    var inline_js = [\n",
       "      function(Bokeh) {\n",
       "        Bokeh.$(function() {\n",
       "            var docs_json = {\"b8e867d1-e478-4b99-a8ba-452b54ac4369\":{\"roots\":{\"references\":[{\"attributes\":{\"line_alpha\":{\"value\":0.1},\"line_color\":{\"value\":\"#1f77b4\"},\"x\":{\"field\":\"x\"},\"y\":{\"field\":\"y\"}},\"id\":\"6175e7a2-733b-4003-91aa-c903fbb44147\",\"type\":\"Line\"},{\"attributes\":{\"overlay\":{\"id\":\"61d09c69-0324-4e9d-8429-f6637dd563bb\",\"type\":\"BoxAnnotation\"},\"plot\":{\"id\":\"2c65ff23-51f9-4199-bad3-dc86b4cad736\",\"subtype\":\"Figure\",\"type\":\"Plot\"}},\"id\":\"bcc6458f-9ce4-4e38-8762-e4483d5b580a\",\"type\":\"BoxZoomTool\"},{\"attributes\":{\"dimension\":1,\"plot\":{\"id\":\"2c65ff23-51f9-4199-bad3-dc86b4cad736\",\"subtype\":\"Figure\",\"type\":\"Plot\"},\"ticker\":{\"id\":\"69f10ab3-7909-460b-8fb3-43079edcdc5c\",\"type\":\"BasicTicker\"}},\"id\":\"6a83f25d-76c6-4182-b67a-6f76c84492f2\",\"type\":\"Grid\"},{\"attributes\":{\"plot\":{\"id\":\"2c65ff23-51f9-4199-bad3-dc86b4cad736\",\"subtype\":\"Figure\",\"type\":\"Plot\"}},\"id\":\"76c772b1-4ba4-43ea-b175-a90ab418b064\",\"type\":\"PanTool\"},{\"attributes\":{\"plot\":{\"id\":\"2c65ff23-51f9-4199-bad3-dc86b4cad736\",\"subtype\":\"Figure\",\"type\":\"Plot\"}},\"id\":\"fd3c9ded-56a3-47b6-9606-8eee7f9a8fb7\",\"type\":\"SaveTool\"},{\"attributes\":{\"callback\":null},\"id\":\"8d3edba7-4cd0-4c12-b43a-7e711e612d23\",\"type\":\"DataRange1d\"},{\"attributes\":{\"plot\":{\"id\":\"2c65ff23-51f9-4199-bad3-dc86b4cad736\",\"subtype\":\"Figure\",\"type\":\"Plot\"}},\"id\":\"0838cd6c-09d9-4a4e-931c-bb0b45adaea5\",\"type\":\"WheelZoomTool\"},{\"attributes\":{\"data_source\":{\"id\":\"c9ff14da-7790-4ea4-8a09-ac11fc5d2472\",\"type\":\"ColumnDataSource\"},\"glyph\":{\"id\":\"c8c11951-63bb-4a9e-b552-0339470a46bc\",\"type\":\"Line\"},\"hover_glyph\":null,\"nonselection_glyph\":{\"id\":\"6175e7a2-733b-4003-91aa-c903fbb44147\",\"type\":\"Line\"},\"selection_glyph\":null},\"id\":\"4fab4f7a-2739-45d2-aba9-fcf4e65b1bdc\",\"type\":\"GlyphRenderer\"},{\"attributes\":{},\"id\":\"69f10ab3-7909-460b-8fb3-43079edcdc5c\",\"type\":\"BasicTicker\"},{\"attributes\":{\"below\":[{\"id\":\"7b0e2885-ae81-4e91-8ad8-542422a18ef5\",\"type\":\"LinearAxis\"}],\"left\":[{\"id\":\"c1abeef0-0f37-457b-91c0-02dce8ce7bd4\",\"type\":\"LinearAxis\"}],\"renderers\":[{\"id\":\"7b0e2885-ae81-4e91-8ad8-542422a18ef5\",\"type\":\"LinearAxis\"},{\"id\":\"b0a85890-0205-4f51-8d69-a39c0d2bb56d\",\"type\":\"Grid\"},{\"id\":\"c1abeef0-0f37-457b-91c0-02dce8ce7bd4\",\"type\":\"LinearAxis\"},{\"id\":\"6a83f25d-76c6-4182-b67a-6f76c84492f2\",\"type\":\"Grid\"},{\"id\":\"61d09c69-0324-4e9d-8429-f6637dd563bb\",\"type\":\"BoxAnnotation\"},{\"id\":\"4fab4f7a-2739-45d2-aba9-fcf4e65b1bdc\",\"type\":\"GlyphRenderer\"},{\"id\":\"ba9ea915-a019-4132-9d92-35d1eac351be\",\"type\":\"GlyphRenderer\"}],\"title\":{\"id\":\"559fb4d4-f137-4687-adbc-b15b0059c8fa\",\"type\":\"Title\"},\"tool_events\":{\"id\":\"2ebb4527-9ac5-4a10-84d3-518e985514ae\",\"type\":\"ToolEvents\"},\"toolbar\":{\"id\":\"1e154216-f958-4613-b777-f035a8cf3fcb\",\"type\":\"Toolbar\"},\"x_range\":{\"id\":\"8d3edba7-4cd0-4c12-b43a-7e711e612d23\",\"type\":\"DataRange1d\"},\"y_range\":{\"id\":\"c3cd8f23-f5b7-4e44-875d-a61d4d645e73\",\"type\":\"DataRange1d\"}},\"id\":\"2c65ff23-51f9-4199-bad3-dc86b4cad736\",\"subtype\":\"Figure\",\"type\":\"Plot\"},{\"attributes\":{},\"id\":\"2ebb4527-9ac5-4a10-84d3-518e985514ae\",\"type\":\"ToolEvents\"},{\"attributes\":{\"formatter\":{\"id\":\"6b2c7ae0-aace-4c4e-a0aa-172c5c090073\",\"type\":\"BasicTickFormatter\"},\"plot\":{\"id\":\"2c65ff23-51f9-4199-bad3-dc86b4cad736\",\"subtype\":\"Figure\",\"type\":\"Plot\"},\"ticker\":{\"id\":\"69f10ab3-7909-460b-8fb3-43079edcdc5c\",\"type\":\"BasicTicker\"}},\"id\":\"c1abeef0-0f37-457b-91c0-02dce8ce7bd4\",\"type\":\"LinearAxis\"},{\"attributes\":{},\"id\":\"6b2c7ae0-aace-4c4e-a0aa-172c5c090073\",\"type\":\"BasicTickFormatter\"},{\"attributes\":{\"plot\":{\"id\":\"2c65ff23-51f9-4199-bad3-dc86b4cad736\",\"subtype\":\"Figure\",\"type\":\"Plot\"}},\"id\":\"16d0fcca-e705-414d-8449-20857902cce5\",\"type\":\"ResetTool\"},{\"attributes\":{\"plot\":{\"id\":\"2c65ff23-51f9-4199-bad3-dc86b4cad736\",\"subtype\":\"Figure\",\"type\":\"Plot\"},\"ticker\":{\"id\":\"ff0f86c6-57bb-48e0-bbc0-68cfde00902c\",\"type\":\"BasicTicker\"}},\"id\":\"b0a85890-0205-4f51-8d69-a39c0d2bb56d\",\"type\":\"Grid\"},{\"attributes\":{\"line_color\":{\"value\":\"#1f77b4\"},\"x\":{\"field\":\"x\"},\"y\":{\"field\":\"y\"}},\"id\":\"5509a091-26ca-4b79-a8ac-2c2f693bde8d\",\"type\":\"Line\"},{\"attributes\":{\"callback\":null,\"column_names\":[\"y\",\"x\"],\"data\":{\"x\":[0.0,0.5263157894736842,1.0526315789473684,1.5789473684210527,2.1052631578947367,2.631578947368421,3.1578947368421053,3.6842105263157894,4.2105263157894735,4.7368421052631575,5.263157894736842,5.789473684210526,6.315789473684211,6.842105263157895,7.368421052631579,7.894736842105263,8.421052631578947,8.947368421052632,9.473684210526315,10.0],\"y\":[0.0,8.687296180358695,8.605403383742441,-0.16301361193955086,-8.766880310355383,-8.521223683683797,0.3259839026803528,8.844134624088179,8.434779451109167,-0.4888675625363447,-8.919038591066162,-8.346093658749096,0.6516213048438347,8.991572305407852,8.255189875033164,-0.8142018774649216,-9.0617164911312,-8.1620922578267,0.9765660742819531,9.129452507276277]}},\"id\":\"0b7c89e1-6569-4012-8bc2-2f90028e91bb\",\"type\":\"ColumnDataSource\"},{\"attributes\":{\"line_color\":{\"value\":\"#1f77b4\"},\"x\":{\"field\":\"x\"},\"y\":{\"field\":\"y\"}},\"id\":\"c8c11951-63bb-4a9e-b552-0339470a46bc\",\"type\":\"Line\"},{\"attributes\":{\"data_source\":{\"id\":\"0b7c89e1-6569-4012-8bc2-2f90028e91bb\",\"type\":\"ColumnDataSource\"},\"glyph\":{\"id\":\"5509a091-26ca-4b79-a8ac-2c2f693bde8d\",\"type\":\"Line\"},\"hover_glyph\":null,\"nonselection_glyph\":{\"id\":\"908583fe-281a-450c-bd57-a963964497bb\",\"type\":\"Line\"},\"selection_glyph\":null},\"id\":\"ba9ea915-a019-4132-9d92-35d1eac351be\",\"type\":\"GlyphRenderer\"},{\"attributes\":{\"active_drag\":\"auto\",\"active_scroll\":\"auto\",\"active_tap\":\"auto\",\"tools\":[{\"id\":\"76c772b1-4ba4-43ea-b175-a90ab418b064\",\"type\":\"PanTool\"},{\"id\":\"0838cd6c-09d9-4a4e-931c-bb0b45adaea5\",\"type\":\"WheelZoomTool\"},{\"id\":\"bcc6458f-9ce4-4e38-8762-e4483d5b580a\",\"type\":\"BoxZoomTool\"},{\"id\":\"fd3c9ded-56a3-47b6-9606-8eee7f9a8fb7\",\"type\":\"SaveTool\"},{\"id\":\"16d0fcca-e705-414d-8449-20857902cce5\",\"type\":\"ResetTool\"},{\"id\":\"aa59dad6-6c53-4b4d-80a3-6bd9da197b82\",\"type\":\"HelpTool\"}]},\"id\":\"1e154216-f958-4613-b777-f035a8cf3fcb\",\"type\":\"Toolbar\"},{\"attributes\":{\"formatter\":{\"id\":\"32cdf10b-d722-44d9-8411-746fd2fbbba8\",\"type\":\"BasicTickFormatter\"},\"plot\":{\"id\":\"2c65ff23-51f9-4199-bad3-dc86b4cad736\",\"subtype\":\"Figure\",\"type\":\"Plot\"},\"ticker\":{\"id\":\"ff0f86c6-57bb-48e0-bbc0-68cfde00902c\",\"type\":\"BasicTicker\"}},\"id\":\"7b0e2885-ae81-4e91-8ad8-542422a18ef5\",\"type\":\"LinearAxis\"},{\"attributes\":{\"plot\":{\"id\":\"2c65ff23-51f9-4199-bad3-dc86b4cad736\",\"subtype\":\"Figure\",\"type\":\"Plot\"}},\"id\":\"aa59dad6-6c53-4b4d-80a3-6bd9da197b82\",\"type\":\"HelpTool\"},{\"attributes\":{},\"id\":\"32cdf10b-d722-44d9-8411-746fd2fbbba8\",\"type\":\"BasicTickFormatter\"},{\"attributes\":{\"callback\":null},\"id\":\"c3cd8f23-f5b7-4e44-875d-a61d4d645e73\",\"type\":\"DataRange1d\"},{\"attributes\":{},\"id\":\"ff0f86c6-57bb-48e0-bbc0-68cfde00902c\",\"type\":\"BasicTicker\"},{\"attributes\":{\"plot\":null,\"text\":null},\"id\":\"559fb4d4-f137-4687-adbc-b15b0059c8fa\",\"type\":\"Title\"},{\"attributes\":{\"bottom_units\":\"screen\",\"fill_alpha\":{\"value\":0.5},\"fill_color\":{\"value\":\"lightgrey\"},\"left_units\":\"screen\",\"level\":\"overlay\",\"line_alpha\":{\"value\":1.0},\"line_color\":{\"value\":\"black\"},\"line_dash\":[4,4],\"line_width\":{\"value\":2},\"plot\":null,\"render_mode\":\"css\",\"right_units\":\"screen\",\"top_units\":\"screen\"},\"id\":\"61d09c69-0324-4e9d-8429-f6637dd563bb\",\"type\":\"BoxAnnotation\"},{\"attributes\":{\"line_alpha\":{\"value\":0.1},\"line_color\":{\"value\":\"#1f77b4\"},\"x\":{\"field\":\"x\"},\"y\":{\"field\":\"y\"}},\"id\":\"908583fe-281a-450c-bd57-a963964497bb\",\"type\":\"Line\"},{\"attributes\":{\"callback\":null,\"column_names\":[\"y\",\"x\"],\"data\":{\"x\":[0.0,0.05025125628140704,0.10050251256281408,0.15075376884422112,0.20100502512562815,0.2512562814070352,0.30150753768844224,0.35175879396984927,0.4020100502512563,0.45226130653266333,0.5025125628140704,0.5527638190954774,0.6030150753768845,0.6532663316582915,0.7035175879396985,0.7537688442211056,0.8040201005025126,0.8542713567839196,0.9045226130653267,0.9547738693467337,1.0050251256281408,1.0552763819095479,1.105527638190955,1.155778894472362,1.206030150753769,1.256281407035176,1.306532663316583,1.35678391959799,1.407035175879397,1.4572864321608041,1.5075376884422111,1.5577889447236182,1.6080402010050252,1.6582914572864322,1.7085427135678393,1.7587939698492463,1.8090452261306533,1.8592964824120604,1.9095477386934674,1.9597989949748744,2.0100502512562817,2.0603015075376887,2.1105527638190957,2.1608040201005028,2.21105527638191,2.261306532663317,2.311557788944724,2.361809045226131,2.412060301507538,2.462311557788945,2.512562814070352,2.562814070351759,2.613065326633166,2.663316582914573,2.71356783919598,2.763819095477387,2.814070351758794,2.864321608040201,2.9145728643216082,2.9648241206030153,3.0150753768844223,3.0653266331658293,3.1155778894472363,3.1658291457286434,3.2160804020100504,3.2663316582914574,3.3165829145728645,3.3668341708542715,3.4170854271356785,3.4673366834170856,3.5175879396984926,3.5678391959798996,3.6180904522613067,3.6683417085427137,3.7185929648241207,3.7688442211055277,3.819095477386935,3.869346733668342,3.919597989949749,3.969849246231156,4.020100502512563,4.07035175879397,4.120603015075377,4.170854271356784,4.2211055276381915,4.2713567839195985,4.3216080402010055,4.371859296482413,4.42211055276382,4.472361809045227,4.522613065326634,4.572864321608041,4.623115577889448,4.673366834170855,4.723618090452262,4.773869346733669,4.824120603015076,4.874371859296483,4.92462311557789,4.974874371859297,5.025125628140704,5.075376884422111,5.125628140703518,5.175879396984925,5.226130653266332,5.276381909547739,5.326633165829146,5.376884422110553,5.42713567839196,5.477386934673367,5.527638190954774,5.577889447236181,5.628140703517588,5.678391959798995,5.728643216080402,5.778894472361809,5.8291457286432165,5.8793969849246235,5.9296482412060305,5.9798994974874375,6.030150753768845,6.080402010050252,6.130653266331659,6.180904522613066,6.231155778894473,6.28140703517588,6.331658291457287,6.381909547738694,6.432160804020101,6.482412060301508,6.532663316582915,6.582914572864322,6.633165829145729,6.683417085427136,6.733668341708543,6.78391959798995,6.834170854271357,6.884422110552764,6.934673366834171,6.984924623115578,7.035175879396985,7.085427135678392,7.135678391959799,7.185929648241206,7.236180904522613,7.28643216080402,7.336683417085427,7.386934673366834,7.437185929648241,7.4874371859296485,7.5376884422110555,7.5879396984924625,7.63819095477387,7.688442211055277,7.738693467336684,7.788944723618091,7.839195979899498,7.889447236180905,7.939698492462312,7.989949748743719,8.040201005025127,8.090452261306533,8.14070351758794,8.190954773869347,8.241206030150755,8.291457286432161,8.341708542713569,8.391959798994975,8.442211055276383,8.492462311557789,8.542713567839197,8.592964824120603,8.643216080402011,8.693467336683417,8.743718592964825,8.793969849246231,8.84422110552764,8.894472361809045,8.944723618090453,8.99497487437186,9.045226130653267,9.095477386934673,9.145728643216081,9.195979899497488,9.246231155778895,9.296482412060302,9.34673366834171,9.396984924623116,9.447236180904524,9.49748743718593,9.547738693467338,9.597989949748744,9.648241206030152,9.698492462311558,9.748743718592966,9.798994974874372,9.84924623115578,9.899497487437186,9.949748743718594,10.0],\"y\":[0.0,0.9996434305161184,1.9911721904261626,2.963867583653887,3.9073898357629044,4.811845941046165,5.6678569972758375,6.46662476198599,7.1999968027189905,7.860529379884552,8.441547068304487,8.937198070193304,9.342504180139244,9.65340441674046,9.866791423801697,9.980539856595616,9.993526097747726,9.90563878651258,9.717779789576213,9.431855387117068,9.050757591619139,8.57833565648313,8.019357965000813,7.379464616354355,6.665111142925064,5.883503901554242,5.042527779905314,4.150666947297018,3.2169194569986743,2.2507065737798486,1.2617777563427908,0.2601122690557334,-0.744181568877022,-1.7409684659983273,-2.720188530413899,-3.671958887437645,-4.586673509419368,-5.4551002442508985,-6.2684740592645145,-7.018585557152083,-7.697863869698631,-8.29945309302668,-8.817281494104797,-9.246122791834239,-9.581648896377502,-9.820473576752294,-9.960186618251278,-9.999378127074468,-9.937652738748113,-9.775633588483823,-9.51495600461029,-9.158250989573848,-8.709118655731272,-8.172091884228982,-7.552590573668068,-6.856866940008924,-6.091942419320709,-5.265536809617239,-4.385990366288943,-3.4621796367412565,-2.5034278830627397,-1.5194109962237963,-0.5200598508894372,0.48453991404985514,1.484249678039257,2.468980157440724,3.428793227550263,4.354002220388649,5.235269685906836,6.063701629787651,6.830937276541047,7.529233451726032,8.151542731431277,8.691584570058637,9.143908688342073,9.5039500816827,9.768075093492373,9.933618088463135,9.998908355597065,9.96328696948557,9.827113439716106,9.591762081385703,9.259608143469652,8.834003835182735,8.319244492435141,7.720525225998065,7.043888489046463,6.296163093376385,5.48489528987229,4.618272608862345,3.705041229032936,2.7544177088534276,1.775995971319874,0.7796504807004097,-0.2245634116354283,-1.2265109466703352,-2.216080238442628,-3.1832843238848363,-4.118361952017369,-5.011876095431469,-5.854809189967627,-6.638654141492377,-7.355500181378018,-7.998112704226855,-8.560006282107619,-9.035510118372656,-9.41982528041652,-9.709073133665195,-9.900334487858004,-9.991679060413235,-9.982184959364242,-9.87194798910132,-9.66208068484545,-9.354701085498954,-8.952911358060508,-8.46076648930583,-7.8832333606606335,-7.226140619358903,-6.4961198518422405,-5.700538653255818,-4.847426268668922,-3.945392556683176,-3.0035410934837876,-2.031377294579014,-1.0387124816928006,-0.03556486324661204,0.9679415720871634,1.9616792281990119,2.935619109553479,3.8799320328431475,4.785087821003058,5.641951478638599,6.44187537860156,7.176786529662659,7.839268045092705,8.422633990388423,8.920996855417847,9.329326970433579,9.643503266985563,9.860354871664217,9.977693113360232,9.994333620894583,9.91010828808307,9.725866984904787,9.443468996952609,9.065764278506043,8.596564707194437,8.040605628815463,7.403498078706153,6.691672159956102,5.912312148147303,5.07328397566369,4.183055826288225,3.250612640143078,2.2853653920895405,1.297056059421591,0.29565924024984613,-0.708718581783094,-1.7059411046671638,-2.6859445713023886,-3.6388393875605276,-4.555009961007885,-5.425211742116634,-6.240664478420923,-6.993140729678971,-7.675048741877036,-8.279508836861881,-8.800422544419733,-9.232533782380235,-9.571481479056102,-9.813843129016163,-9.957168877095732,-10.000005836939286,-9.941912464905853,-9.783462929022182,-9.526241532098789,-9.172827364296678,-8.726769471252268,-8.192552924423667,-7.575556263545016,-6.882000841149065,-6.118892627427822,-5.2939570179561946,-4.415567116019535,-3.4926658174907206,-2.5346817921103915,-1.5514391065385633,-0.5530597427512552,0.45014239714977533,1.447778290173391,2.4295148220384006,3.3852249261357716,4.305163539626091,5.180178363719248,6.001967233934963,6.763397357267255,7.45890588475173,8.08500637792857,8.640931862138668,9.1294525073023]}},\"id\":\"c9ff14da-7790-4ea4-8a09-ac11fc5d2472\",\"type\":\"ColumnDataSource\"}],\"root_ids\":[\"2c65ff23-51f9-4199-bad3-dc86b4cad736\"]},\"title\":\"Bokeh Application\",\"version\":\"0.12.0\"}};\n",
       "            var render_items = [{\"docid\":\"b8e867d1-e478-4b99-a8ba-452b54ac4369\",\"elementid\":\"b19268b2-b349-4689-b1e7-d975c63f04cb\",\"modelid\":\"2c65ff23-51f9-4199-bad3-dc86b4cad736\",\"notebook_comms_target\":\"7840954c-6cf5-4a97-9d66-67836dc5efa4\"}];\n",
       "            \n",
       "            Bokeh.embed.embed_items(docs_json, render_items);\n",
       "        });\n",
       "      },\n",
       "      function(Bokeh) {\n",
       "      }\n",
       "    ];\n",
       "  \n",
       "    function run_inline_js() {\n",
       "      for (var i = 0; i < inline_js.length; i++) {\n",
       "        inline_js[i](window.Bokeh);\n",
       "      }\n",
       "    }\n",
       "  \n",
       "    if (window._bokeh_is_loading === 0) {\n",
       "      console.log(\"Bokeh: BokehJS loaded, going straight to plotting\");\n",
       "      run_inline_js();\n",
       "    } else {\n",
       "      load_libs(js_urls, function() {\n",
       "        console.log(\"Bokeh: BokehJS plotting callback run at\", now());\n",
       "        run_inline_js();\n",
       "      });\n",
       "    }\n",
       "  }(this));\n",
       "</script>"
      ]
     },
     "metadata": {},
     "output_type": "display_data"
    },
    {
     "data": {
      "text/html": [
       "<p><code>&lt;Bokeh Notebook handle for <strong>In[5]</strong>&gt;</code></p>"
      ],
      "text/plain": [
       "<bokeh.io._CommsHandle at 0x113e9fed0>"
      ]
     },
     "execution_count": 5,
     "metadata": {},
     "output_type": "execute_result"
    }
   ],
   "source": [
    "# Plot the raw data and the interpolant \n",
    "\n",
    "p = figure()\n",
    "p.line( xx, P(xx) )\n",
    "p.line( x,y,'or' )\n",
    "\n",
    "show(p)"
   ]
  },
  {
   "cell_type": "code",
   "execution_count": 6,
   "metadata": {
    "collapsed": true
   },
   "outputs": [],
   "source": [
    "?show"
   ]
  },
  {
   "cell_type": "code",
   "execution_count": null,
   "metadata": {
    "collapsed": true
   },
   "outputs": [],
   "source": []
  }
 ],
 "metadata": {
  "kernelspec": {
   "display_name": "Python [Root]",
   "language": "python",
   "name": "Python [Root]"
  },
  "language_info": {
   "codemirror_mode": {
    "name": "ipython",
    "version": 2
   },
   "file_extension": ".py",
   "mimetype": "text/x-python",
   "name": "python",
   "nbconvert_exporter": "python",
   "pygments_lexer": "ipython2",
   "version": "2.7.12"
  }
 },
 "nbformat": 4,
 "nbformat_minor": 0
}
