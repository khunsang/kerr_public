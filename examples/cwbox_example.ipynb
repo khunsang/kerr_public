{
 "cells": [
  {
   "cell_type": "code",
   "execution_count": 1,
   "metadata": {
    "collapsed": false
   },
   "outputs": [],
   "source": [
    "%load_ext autoreload\n",
    "%autoreload 2"
   ]
  },
  {
   "cell_type": "code",
   "execution_count": 2,
   "metadata": {
    "collapsed": false
   },
   "outputs": [
    {
     "name": "stdout",
     "output_type": "stream",
     "text": [
      "\u001b[93mkerr##\u001b[0m Found formula module \"\u001b[92mksm2_cw\u001b[0m\"\n",
      "\u001b[93mkerr##\u001b[0m Found formula module \"\u001b[92mksm2_sc\u001b[0m\"\n",
      "\u001b[93mkerr##\u001b[0m Found formula module \"\u001b[92mmmrdns_amplitudes\u001b[0m\"\n",
      "\u001b[93mkerr##\u001b[0m Found formula module \"\u001b[92mmmrdns_Mfjf\u001b[0m\"\n"
     ]
    }
   ],
   "source": [
    "# Make plotting inline\n",
    "%matplotlib inline\n",
    "from matplotlib.pyplot import savefig\n",
    "# Import workhorse class for calculating QNM frequencies \n",
    "from kerr.mapqnms import cwbox\n",
    "#\n",
    "from numpy import sign"
   ]
  },
  {
   "cell_type": "code",
   "execution_count": 7,
   "metadata": {
    "collapsed": false
   },
   "outputs": [
    {
     "name": "stdout",
     "output_type": "stream",
     "text": [
      "\n"
     ]
    }
   ],
   "source": [
    "# Define parameters \n",
    "l,m,jf = 2,2,0.68\n",
    "\n",
    "# Define a box in cw space over which to calculate QNM solutions\n",
    "x = 0\n",
    "y = -0.45\n",
    "wid = 1.2*m\n",
    "hig = (y-1e-3)*2\n",
    "\n",
    "#\n",
    "a = cwbox( l,m,x,y,wid,hig,res=80,maxn=3,verbose=True )\n"
   ]
  },
  {
   "cell_type": "code",
   "execution_count": null,
   "metadata": {
    "collapsed": false,
    "scrolled": false
   },
   "outputs": [
    {
     "name": "stdout",
     "output_type": "stream",
     "text": [
      "(\u001b[96mmap\u001b[0m)>> \n",
      "\n",
      "# -------------------------------------------------------------------------------- #\n",
      "\u001b[94m\u001b[1mAttempting to map qnm solutions for: jf = 0.68000000\u001b[0m\u001b[0m\n",
      "# -------------------------------------------------------------------------------- #\n",
      "\n",
      "(\u001b[96mmap\u001b[0m)>> Solvinq Leavers Eqns over grid\n",
      ". . . . . . . . . . . . . . . . . . . . . . . . . . . . . . . . . . . . . . . . . . . . . . . . . . . . . . . . . . . . . . . . . . . . . . . . . . . . . . . . Done.\n",
      "(\u001b[96mmap\u001b[0m)>> Searching for local minima. Ignoring mins on boundaries.\n",
      "(\u001b[96mmap\u001b[0m)>> Number of local minima found: \u001b[95m8\u001b[0m.\n",
      "(\u001b[96msensescale\u001b[0m)>> Sensing the scale of the current object's sub-boxes.\n",
      "(\u001b[96mmap\u001b[0m)>> Refining QNM solution locations using a hybrid strategy.\n",
      "(\u001b[96mrefine\u001b[0m)>> \u001b[96m* Constructing guess using scberti-grid or extrap.\u001b[0m\n",
      "(\u001b[96mguess\u001b[0m)>> \u001b[95mThe function value at guess from grid is 5.78838617166\u001b[0m\n",
      "The final function value is \u001b[92m\u001b[1m2.48274659684e-14\u001b[0m\u001b[0m\n",
      "\n",
      "\t Geuss   cw: (-0.167088607595-0.763987341772j)\n",
      "\t Optimal cw: (-0.159237603682-0.757745990482j)\n",
      "\t Approx  sc: (4.38594109645+1.32717855747j)\n",
      "\t Geuss   sc: (4.38594109645+1.32717855747j)\n",
      "\t Optimal sc: (4.47049532106+1.28478149076j)\n",
      "\n",
      "(\u001b[96msensescale\u001b[0m)>> Sensing the scale of the current object's sub-boxes.\n",
      "(\u001b[96mrefine\u001b[0m)>> \u001b[96m* Constructing guess using scberti-grid or extrap.\u001b[0m\n",
      "(\u001b[96mguess\u001b[0m)>> \u001b[95mThe function value at guess from grid is 9.10338900321\u001b[0m\n"
     ]
    }
   ],
   "source": [
    "#\n",
    "a.map(jf)"
   ]
  },
  {
   "cell_type": "code",
   "execution_count": null,
   "metadata": {
    "collapsed": false,
    "scrolled": false
   },
   "outputs": [],
   "source": [
    "from matplotlib.pyplot import close\n",
    "close('all')\n",
    "a.plot(showlabel=True)\n",
    "# savefig( 'cwbox_example_chi%1.4f_l%im%i.pdf' % (jf,l,m) )"
   ]
  },
  {
   "cell_type": "code",
   "execution_count": 315,
   "metadata": {
    "collapsed": false,
    "scrolled": true
   },
   "outputs": [],
   "source": [
    "# a.map(jf+0.01)\n",
    "# a.plot(showlabel=True)\n",
    "# savefig( 'cwbox_example_chi%1.4f_l%im%i.pdf' % (a.__jf__[-1],l,m) )"
   ]
  },
  {
   "cell_type": "code",
   "execution_count": 316,
   "metadata": {
    "collapsed": false
   },
   "outputs": [],
   "source": [
    "# a.data"
   ]
  },
  {
   "cell_type": "code",
   "execution_count": 317,
   "metadata": {
    "collapsed": false
   },
   "outputs": [],
   "source": [
    "# from numpy import vstack\n",
    "\n",
    "# D = vstack([a.data[(l,m,0,0)]['jf'],a.data[(l,m,0,0)]['cw'],a.data[(l,m,0,0)]['sc'],a.data[(l,m,0,0)]['lvrfmin']])\n",
    "# print D.T.shape\n"
   ]
  },
  {
   "cell_type": "code",
   "execution_count": null,
   "metadata": {
    "collapsed": true
   },
   "outputs": [],
   "source": []
  }
 ],
 "metadata": {
  "kernelspec": {
   "display_name": "Python [Root]",
   "language": "python",
   "name": "Python [Root]"
  },
  "language_info": {
   "codemirror_mode": {
    "name": "ipython",
    "version": 2
   },
   "file_extension": ".py",
   "mimetype": "text/x-python",
   "name": "python",
   "nbconvert_exporter": "python",
   "pygments_lexer": "ipython2",
   "version": "2.7.12"
  }
 },
 "nbformat": 4,
 "nbformat_minor": 0
}
