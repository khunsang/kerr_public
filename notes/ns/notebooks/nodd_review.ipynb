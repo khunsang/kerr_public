{
 "cells": [
  {
   "cell_type": "markdown",
   "metadata": {},
   "source": [
    "# Testing for qnmfit and related classes"
   ]
  },
  {
   "cell_type": "code",
   "execution_count": 9,
   "metadata": {
    "collapsed": false
   },
   "outputs": [
    {
     "name": "stdout",
     "output_type": "stream",
     "text": [
      "The autoreload extension is already loaded. To reload it, use:\n",
      "  %reload_ext autoreload\n"
     ]
    }
   ],
   "source": [
    "# Low-level import \n",
    "from numpy import array,loadtxt,linspace,zeros,exp,ones,unwrap,angle,pi\n",
    "# Setup ipython environment\n",
    "%load_ext autoreload\n",
    "%autoreload 2\n",
    "%matplotlib inline\n",
    "# Import useful things from kerr\n",
    "from kerr import qnmfit,rgb\n",
    "# Import usefult things from nrutils\n",
    "from nrutils import scsearch,gwylm,scbuild,jf14067295,Mf14067295\n",
    "# Setup plotting backend\n",
    "import matplotlib as mpl\n",
    "mpl.rcParams['lines.linewidth'] = 0.8\n",
    "mpl.rcParams['font.family'] = 'serif'\n",
    "mpl.rcParams['font.size'] = 12\n",
    "mpl.rcParams['axes.labelsize'] = 20\n",
    "from matplotlib.pyplot import *"
   ]
  },
  {
   "cell_type": "markdown",
   "metadata": {},
   "source": [
    "## Find a Simulation "
   ]
  },
  {
   "cell_type": "code",
   "execution_count": 177,
   "metadata": {
    "collapsed": false,
    "scrolled": false
   },
   "outputs": [
    {
     "name": "stdout",
     "output_type": "stream",
     "text": [
      "[scsearch]>> Found \u001b[4mkeyword\u001b[0m (='q18a0aM04c05v4_et05_2_T_80') keyword.\n",
      "[scsearch]>> Found \u001b[4mnonprecessing\u001b[0m (=True) keyword.\n",
      "[scsearch]>> Found \u001b[4munique\u001b[0m (=True) keyword.\n",
      "[scsearch]>> Found \u001b[4mvalidate_remnant\u001b[0m (=True) keyword.\n",
      "[scsearch]>> Found \u001b[4mverbose\u001b[0m (=True) keyword.\n",
      "(\u001b[0;36mscsearch\u001b[0m)>> List of keywords or string keyword found: \u001b[0;36mALL scentry objects matching will be passed.\u001b[0m To pass ANY entries matching the keywords, input the keywords using an iterable of not of type list.\n",
      "## Found \u001b[1m1\u001b[0m\u001b[92m unique\u001b[0m simulations:\n",
      "[0001][\u001b[92msilures\u001b[0m] \u001b[0;36mBAM\u001b[0m: 1chi0.40-saa-q18.00\t(\u001b[0;36mq18a0aM04c05v4_et05_2_T_80\u001b[0m)\n",
      "\n"
     ]
    }
   ],
   "source": [
    "# A = scsearch(keyword='hrq',verbose=True,unique=True,validate_remnant=True,q=1.2)\n",
    "A = scsearch(keyword=('q18a0aM04c05v4_et05_2_T_80'),nonprecessing=True,verbose=True,unique=True,validate_remnant=True)\n",
    "# A = scsearch(keyword='D11_q2.50_a-0.2_m200',verbose=True,unique=True,validate_remnant=True)\n",
    "# for e in A:\n",
    "#     e.mf,e.xf = Mf14067295(e.m1,e.m2,e.S1[-1]/(e.m1**2),e.S2[-1]/(e.m2**2)),jf14067295(e.m1,e.m2,e.S1[-1]/(e.m1**2),e.S2[-1]/(e.m2**2))"
   ]
  },
  {
   "cell_type": "code",
   "execution_count": 178,
   "metadata": {
    "collapsed": false
   },
   "outputs": [
    {
     "name": "stdout",
     "output_type": "stream",
     "text": [
      "/Volumes/athena/silures/BAM/q18/q18_a0_aM04/q18a0aM04c05v4_et05_2_T_80/\n",
      "q18a0aM04c05v4_et05_2_T_80\n",
      "0.899757623874 0.224200494264\n",
      "0.994498750894 0.502071803042\n"
     ]
    }
   ],
   "source": [
    "e = A[0]\n",
    "print e.simdir()\n",
    "print e.simname\n",
    "print e.mf,e.xf\n",
    "print Mf14067295(e.m1,e.m2,e.S1[-1]/(e.m1**2),e.S2[-1]/(e.m2**2)),jf14067295(e.m1,e.m2,e.S1[-1]/(e.m1**2),e.S2[-1]/(e.m2**2))\n",
    "e.mf,e.xf = Mf14067295(e.m1,e.m2,e.S1[-1]/(e.m1**2),e.S2[-1]/(e.m2**2)),jf14067295(e.m1,e.m2,e.S1[-1]/(e.m1**2),e.S2[-1]/(e.m2**2))"
   ]
  },
  {
   "cell_type": "code",
   "execution_count": 181,
   "metadata": {
    "collapsed": false
   },
   "outputs": [
    {
     "name": "stdout",
     "output_type": "stream",
     "text": [
      "(\u001b[0;36mgwylm\u001b[0m)>> Found \u001b[4mclean\u001b[0m (=True) keyword.\n",
      "(\u001b[0;36mgwylm\u001b[0m)>> Found \u001b[4mdt\u001b[0m (=0.5) keyword.\n",
      "(\u001b[0;36mgwylm\u001b[0m)>> Found \u001b[4mlm\u001b[0m (=[2, 1]) keyword.\n",
      "(\u001b[0;36mgwylm\u001b[0m)>> Found \u001b[4mscentry_obj\u001b[0m (=<nrutils.core.nrsc.scentry instance at 0x13c23a5f0>) keyword.\n",
      "(\u001b[0;36mgwylm\u001b[0m)>> Found \u001b[4mverbose\u001b[0m (=True) keyword.\n",
      "(\u001b[0;36mgwylm\u001b[0m)>> The (\u001b[1;35mextraction_parameter\u001b[0m,\u001b[92mlevel\u001b[0m) is (\u001b[1;35m2\u001b[0m,\u001b[92m5\u001b[0m), which differs from the config values of (5,5). You have either manually input the non-config values, or the handler has set them by looking at the contents of the simulation directory. \n",
      "(\u001b[0;33mgwylm!\u001b[0m)>> The l=m=2 multipole will be loaded in order to determine important characteristice of all modes such as noise floor and junk radiation location.\n",
      "(\u001b[0;36m__make_lmlist__\u001b[0m)>> The following spherical multipoles will be loaded:\u001b[0;36m[(2, 1), (2, 2)]\u001b[0m\n",
      "(\u001b[0;36mload\u001b[0m)>> Loading: \u001b[0;36mpsi3col.r2.l5.l2.m1.gz\u001b[0m\n",
      "(3,)\n",
      "[ 0.  0.  0.]\n"
     ]
    },
    {
     "ename": "ValueError",
     "evalue": "'axis' entry is out of bounds",
     "output_type": "error",
     "traceback": [
      "\u001b[0;31m---------------------------------------------------------------------------\u001b[0m",
      "\u001b[0;31mValueError\u001b[0m                                Traceback (most recent call last)",
      "\u001b[0;32m<ipython-input-181-22900deeb0ec>\u001b[0m in \u001b[0;36m<module>\u001b[0;34m()\u001b[0m\n\u001b[1;32m      1\u001b[0m \u001b[0ma\u001b[0m \u001b[0;34m=\u001b[0m \u001b[0mA\u001b[0m\u001b[0;34m[\u001b[0m\u001b[0;36m0\u001b[0m\u001b[0;34m]\u001b[0m\u001b[0;34m\u001b[0m\u001b[0m\n\u001b[1;32m      2\u001b[0m \u001b[0mll\u001b[0m\u001b[0;34m,\u001b[0m\u001b[0mmm\u001b[0m \u001b[0;34m=\u001b[0m \u001b[0;36m2\u001b[0m\u001b[0;34m,\u001b[0m\u001b[0;36m1\u001b[0m\u001b[0;34m\u001b[0m\u001b[0m\n\u001b[0;32m----> 3\u001b[0;31m \u001b[0mY\u001b[0m \u001b[0;34m=\u001b[0m \u001b[0mgwylm\u001b[0m\u001b[0;34m(\u001b[0m \u001b[0ma\u001b[0m\u001b[0;34m,\u001b[0m \u001b[0mlm\u001b[0m\u001b[0;34m=\u001b[0m\u001b[0;34m[\u001b[0m\u001b[0mll\u001b[0m\u001b[0;34m,\u001b[0m\u001b[0mmm\u001b[0m\u001b[0;34m]\u001b[0m\u001b[0;34m,\u001b[0m \u001b[0mclean\u001b[0m\u001b[0;34m=\u001b[0m\u001b[0mTrue\u001b[0m\u001b[0;34m,\u001b[0m \u001b[0mdt\u001b[0m\u001b[0;34m=\u001b[0m\u001b[0;36m0.5\u001b[0m\u001b[0;34m,\u001b[0m \u001b[0mverbose\u001b[0m\u001b[0;34m=\u001b[0m\u001b[0mTrue\u001b[0m \u001b[0;34m)\u001b[0m\u001b[0;34m\u001b[0m\u001b[0m\n\u001b[0m\u001b[1;32m      4\u001b[0m \u001b[0;32mprint\u001b[0m \u001b[0ma\u001b[0m\u001b[0;34m.\u001b[0m\u001b[0mmf\u001b[0m\u001b[0;34m,\u001b[0m\u001b[0ma\u001b[0m\u001b[0;34m.\u001b[0m\u001b[0mxf\u001b[0m\u001b[0;34m\u001b[0m\u001b[0m\n\u001b[1;32m      5\u001b[0m \u001b[0ma\u001b[0m\u001b[0;34m.\u001b[0m\u001b[0mmf\u001b[0m\u001b[0;34m,\u001b[0m\u001b[0ma\u001b[0m\u001b[0;34m.\u001b[0m\u001b[0mxf\u001b[0m \u001b[0;34m=\u001b[0m \u001b[0mMf14067295\u001b[0m\u001b[0;34m(\u001b[0m\u001b[0me\u001b[0m\u001b[0;34m.\u001b[0m\u001b[0mm1\u001b[0m\u001b[0;34m,\u001b[0m\u001b[0me\u001b[0m\u001b[0;34m.\u001b[0m\u001b[0mm2\u001b[0m\u001b[0;34m,\u001b[0m\u001b[0me\u001b[0m\u001b[0;34m.\u001b[0m\u001b[0mS1\u001b[0m\u001b[0;34m[\u001b[0m\u001b[0;34m-\u001b[0m\u001b[0;36m1\u001b[0m\u001b[0;34m]\u001b[0m\u001b[0;34m/\u001b[0m\u001b[0;34m(\u001b[0m\u001b[0me\u001b[0m\u001b[0;34m.\u001b[0m\u001b[0mm1\u001b[0m\u001b[0;34m**\u001b[0m\u001b[0;36m2\u001b[0m\u001b[0;34m)\u001b[0m\u001b[0;34m,\u001b[0m\u001b[0me\u001b[0m\u001b[0;34m.\u001b[0m\u001b[0mS2\u001b[0m\u001b[0;34m[\u001b[0m\u001b[0;34m-\u001b[0m\u001b[0;36m1\u001b[0m\u001b[0;34m]\u001b[0m\u001b[0;34m/\u001b[0m\u001b[0;34m(\u001b[0m\u001b[0me\u001b[0m\u001b[0;34m.\u001b[0m\u001b[0mm2\u001b[0m\u001b[0;34m**\u001b[0m\u001b[0;36m2\u001b[0m\u001b[0;34m)\u001b[0m\u001b[0;34m)\u001b[0m\u001b[0;34m,\u001b[0m\u001b[0mjf14067295\u001b[0m\u001b[0;34m(\u001b[0m\u001b[0me\u001b[0m\u001b[0;34m.\u001b[0m\u001b[0mm1\u001b[0m\u001b[0;34m,\u001b[0m\u001b[0me\u001b[0m\u001b[0;34m.\u001b[0m\u001b[0mm2\u001b[0m\u001b[0;34m,\u001b[0m\u001b[0me\u001b[0m\u001b[0;34m.\u001b[0m\u001b[0mS1\u001b[0m\u001b[0;34m[\u001b[0m\u001b[0;34m-\u001b[0m\u001b[0;36m1\u001b[0m\u001b[0;34m]\u001b[0m\u001b[0;34m/\u001b[0m\u001b[0;34m(\u001b[0m\u001b[0me\u001b[0m\u001b[0;34m.\u001b[0m\u001b[0mm1\u001b[0m\u001b[0;34m**\u001b[0m\u001b[0;36m2\u001b[0m\u001b[0;34m)\u001b[0m\u001b[0;34m,\u001b[0m\u001b[0me\u001b[0m\u001b[0;34m.\u001b[0m\u001b[0mS2\u001b[0m\u001b[0;34m[\u001b[0m\u001b[0;34m-\u001b[0m\u001b[0;36m1\u001b[0m\u001b[0;34m]\u001b[0m\u001b[0;34m/\u001b[0m\u001b[0;34m(\u001b[0m\u001b[0me\u001b[0m\u001b[0;34m.\u001b[0m\u001b[0mm2\u001b[0m\u001b[0;34m**\u001b[0m\u001b[0;36m2\u001b[0m\u001b[0;34m)\u001b[0m\u001b[0;34m)\u001b[0m\u001b[0;34m\u001b[0m\u001b[0m\n",
      "\u001b[0;32m/Users/book/JOKI/Libs/KOALA/nrutils_dev/nrutils/core/nrsc.pyc\u001b[0m in \u001b[0;36m__init__\u001b[0;34m(this, scentry_obj, lm, lmax, dt, load, clean, extraction_parameter, level, w22, lowpass, calcstrain, verbose)\u001b[0m\n\u001b[1;32m   1725\u001b[0m \u001b[0;34m\u001b[0m\u001b[0m\n\u001b[1;32m   1726\u001b[0m         \u001b[0;31m# Load the waveform data\u001b[0m\u001b[0;34m\u001b[0m\u001b[0;34m\u001b[0m\u001b[0m\n\u001b[0;32m-> 1727\u001b[0;31m         \u001b[0;32mif\u001b[0m \u001b[0mload\u001b[0m\u001b[0;34m==\u001b[0m\u001b[0mTrue\u001b[0m\u001b[0;34m:\u001b[0m \u001b[0mthis\u001b[0m\u001b[0;34m.\u001b[0m\u001b[0m__load__\u001b[0m\u001b[0;34m(\u001b[0m\u001b[0mlmax\u001b[0m\u001b[0;34m=\u001b[0m\u001b[0mlmax\u001b[0m\u001b[0;34m,\u001b[0m\u001b[0mlm\u001b[0m\u001b[0;34m=\u001b[0m\u001b[0mlm\u001b[0m\u001b[0;34m,\u001b[0m\u001b[0mdt\u001b[0m\u001b[0;34m=\u001b[0m\u001b[0mdt\u001b[0m\u001b[0;34m)\u001b[0m\u001b[0;34m\u001b[0m\u001b[0m\n\u001b[0m\u001b[1;32m   1728\u001b[0m \u001b[0;34m\u001b[0m\u001b[0m\n\u001b[1;32m   1729\u001b[0m         \u001b[0;31m# Characterize the waveform's start and store related information to this.preinspiral\u001b[0m\u001b[0;34m\u001b[0m\u001b[0;34m\u001b[0m\u001b[0m\n",
      "\u001b[0;32m/Users/book/JOKI/Libs/KOALA/nrutils_dev/nrutils/core/nrsc.pyc\u001b[0m in \u001b[0;36m__load__\u001b[0;34m(this, lmax, lm, extraction_parameter, level, dt, verbose)\u001b[0m\n\u001b[1;32m   1880\u001b[0m         \u001b[0;31m# Load all values in __lmlist__\u001b[0m\u001b[0;34m\u001b[0m\u001b[0;34m\u001b[0m\u001b[0m\n\u001b[1;32m   1881\u001b[0m         \u001b[0;32mfor\u001b[0m \u001b[0mlm\u001b[0m \u001b[0;32min\u001b[0m \u001b[0mthis\u001b[0m\u001b[0;34m.\u001b[0m\u001b[0m__lmlist__\u001b[0m\u001b[0;34m:\u001b[0m\u001b[0;34m\u001b[0m\u001b[0m\n\u001b[0;32m-> 1882\u001b[0;31m             \u001b[0mthis\u001b[0m\u001b[0;34m.\u001b[0m\u001b[0mload\u001b[0m\u001b[0;34m(\u001b[0m\u001b[0mlm\u001b[0m\u001b[0;34m=\u001b[0m\u001b[0mlm\u001b[0m\u001b[0;34m,\u001b[0m\u001b[0mdt\u001b[0m\u001b[0;34m=\u001b[0m\u001b[0mdt\u001b[0m\u001b[0;34m,\u001b[0m\u001b[0mextraction_parameter\u001b[0m\u001b[0;34m=\u001b[0m\u001b[0mextraction_parameter\u001b[0m\u001b[0;34m,\u001b[0m\u001b[0mlevel\u001b[0m\u001b[0;34m=\u001b[0m\u001b[0mlevel\u001b[0m\u001b[0;34m,\u001b[0m\u001b[0mverbose\u001b[0m\u001b[0;34m=\u001b[0m\u001b[0mverbose\u001b[0m\u001b[0;34m)\u001b[0m\u001b[0;34m\u001b[0m\u001b[0m\n\u001b[0m\u001b[1;32m   1883\u001b[0m \u001b[0;34m\u001b[0m\u001b[0m\n\u001b[1;32m   1884\u001b[0m         \u001b[0;31m# Ensuer that all modes are the same length\u001b[0m\u001b[0;34m\u001b[0m\u001b[0;34m\u001b[0m\u001b[0m\n",
      "\u001b[0;32m/Users/book/JOKI/Libs/KOALA/nrutils_dev/nrutils/core/nrsc.pyc\u001b[0m in \u001b[0;36mload\u001b[0;34m(this, lm, file_location, dt, extraction_parameter, level, output, verbose)\u001b[0m\n\u001b[1;32m   2029\u001b[0m \u001b[0;34m\u001b[0m\u001b[0m\n\u001b[1;32m   2030\u001b[0m             \u001b[0;31m#\u001b[0m\u001b[0;34m\u001b[0m\u001b[0;34m\u001b[0m\u001b[0m\n\u001b[0;32m-> 2031\u001b[0;31m             \u001b[0my_\u001b[0m \u001b[0;34m=\u001b[0m \u001b[0mmkgwf\u001b[0m\u001b[0;34m(\u001b[0m\u001b[0mwfarr\u001b[0m\u001b[0;34m)\u001b[0m\u001b[0;34m\u001b[0m\u001b[0m\n\u001b[0m\u001b[1;32m   2032\u001b[0m \u001b[0;34m\u001b[0m\u001b[0m\n\u001b[1;32m   2033\u001b[0m             \u001b[0;31m# ---------------------------------------------------- #\u001b[0m\u001b[0;34m\u001b[0m\u001b[0;34m\u001b[0m\u001b[0m\n",
      "\u001b[0;32m/Users/book/JOKI/Libs/KOALA/nrutils_dev/nrutils/core/nrsc.pyc\u001b[0m in \u001b[0;36mmkgwf\u001b[0;34m(wfarr_)\u001b[0m\n\u001b[1;32m   2026\u001b[0m                             \u001b[0mlabel\u001b[0m \u001b[0;34m=\u001b[0m \u001b[0mthis\u001b[0m\u001b[0;34m.\u001b[0m\u001b[0mlabel\u001b[0m\u001b[0;34m,\u001b[0m\u001b[0;34m\u001b[0m\u001b[0m\n\u001b[1;32m   2027\u001b[0m                             \u001b[0mref_scentry\u001b[0m \u001b[0;34m=\u001b[0m \u001b[0mthis\u001b[0m\u001b[0;34m.\u001b[0m\u001b[0m__scentry__\u001b[0m\u001b[0;34m,\u001b[0m\u001b[0;34m\u001b[0m\u001b[0m\n\u001b[0;32m-> 2028\u001b[0;31m                             kind='$rM\\psi_{%i%i}$'%(l,m) )\n\u001b[0m\u001b[1;32m   2029\u001b[0m \u001b[0;34m\u001b[0m\u001b[0m\n\u001b[1;32m   2030\u001b[0m             \u001b[0;31m#\u001b[0m\u001b[0;34m\u001b[0m\u001b[0;34m\u001b[0m\u001b[0m\n",
      "\u001b[0;32m/Users/book/JOKI/Libs/KOALA/nrutils_dev/nrutils/core/nrsc.pyc\u001b[0m in \u001b[0;36m__init__\u001b[0;34m(this, wfarr, dt, ref_scentry, l, m, extraction_parameter, kind, friend, mf, xf, m1, m2, label, preinspiral, postringdown, verbose)\u001b[0m\n\u001b[1;32m    891\u001b[0m \u001b[0;34m\u001b[0m\u001b[0m\n\u001b[1;32m    892\u001b[0m         \u001b[0;31m# Fix nans, nonmonotinicities and jumps in time series waveform array\u001b[0m\u001b[0;34m\u001b[0m\u001b[0;34m\u001b[0m\u001b[0m\n\u001b[0;32m--> 893\u001b[0;31m         \u001b[0mwfarr\u001b[0m \u001b[0;34m=\u001b[0m \u001b[0mstraighten_wfarr\u001b[0m\u001b[0;34m(\u001b[0m \u001b[0mwfarr\u001b[0m\u001b[0;34m,\u001b[0m \u001b[0mverbose\u001b[0m\u001b[0;34m=\u001b[0m\u001b[0mthis\u001b[0m\u001b[0;34m.\u001b[0m\u001b[0mverbose\u001b[0m \u001b[0;34m)\u001b[0m\u001b[0;34m\u001b[0m\u001b[0m\n\u001b[0m\u001b[1;32m    894\u001b[0m \u001b[0;34m\u001b[0m\u001b[0m\n\u001b[1;32m    895\u001b[0m         \u001b[0;31m# use the raw waveform data to define all fields\u001b[0m\u001b[0;34m\u001b[0m\u001b[0;34m\u001b[0m\u001b[0m\n",
      "\u001b[0;32m/Users/book/JOKI/Libs/KOALA/nrutils_dev/nrutils/core/basics.py\u001b[0m in \u001b[0;36mstraighten_wfarr\u001b[0;34m(wfarr, verbose)\u001b[0m\n\u001b[1;32m   1835\u001b[0m     \u001b[0;32mprint\u001b[0m \u001b[0mwfarr\u001b[0m\u001b[0;34m.\u001b[0m\u001b[0mshape\u001b[0m\u001b[0;34m\u001b[0m\u001b[0m\n\u001b[1;32m   1836\u001b[0m     \u001b[0;32mprint\u001b[0m \u001b[0mwfarr\u001b[0m\u001b[0;34m\u001b[0m\u001b[0m\n\u001b[0;32m-> 1837\u001b[0;31m     \u001b[0mfinite_mask\u001b[0m \u001b[0;34m=\u001b[0m \u001b[0misfinite\u001b[0m\u001b[0;34m(\u001b[0m \u001b[0msum\u001b[0m\u001b[0;34m(\u001b[0m \u001b[0mwfarr\u001b[0m\u001b[0;34m,\u001b[0m \u001b[0;36m1\u001b[0m \u001b[0;34m)\u001b[0m \u001b[0;34m)\u001b[0m\u001b[0;34m\u001b[0m\u001b[0m\n\u001b[0m\u001b[1;32m   1838\u001b[0m     \u001b[0;32mif\u001b[0m \u001b[0msum\u001b[0m\u001b[0;34m(\u001b[0m\u001b[0mfinite_mask\u001b[0m\u001b[0;34m)\u001b[0m\u001b[0;34m!=\u001b[0m\u001b[0mlen\u001b[0m\u001b[0;34m(\u001b[0m\u001b[0mfinite_mask\u001b[0m\u001b[0;34m)\u001b[0m\u001b[0;34m:\u001b[0m\u001b[0;34m\u001b[0m\u001b[0m\n\u001b[1;32m   1839\u001b[0m         \u001b[0;32mif\u001b[0m \u001b[0mverbose\u001b[0m\u001b[0;34m:\u001b[0m \u001b[0malert\u001b[0m\u001b[0;34m(\u001b[0m\u001b[0;34m'Non-finite values found in waveform array. Corresponding rows will be removed.'\u001b[0m\u001b[0;34m,\u001b[0m\u001b[0mthisfun\u001b[0m\u001b[0;34m)\u001b[0m\u001b[0;34m\u001b[0m\u001b[0m\n",
      "\u001b[0;32m/Library/Python/2.7/site-packages/numpy/core/fromnumeric.pyc\u001b[0m in \u001b[0;36msum\u001b[0;34m(a, axis, dtype, out, keepdims)\u001b[0m\n\u001b[1;32m   1838\u001b[0m     \u001b[0;32melse\u001b[0m\u001b[0;34m:\u001b[0m\u001b[0;34m\u001b[0m\u001b[0m\n\u001b[1;32m   1839\u001b[0m         return _methods._sum(a, axis=axis, dtype=dtype,\n\u001b[0;32m-> 1840\u001b[0;31m                              out=out, keepdims=keepdims)\n\u001b[0m\u001b[1;32m   1841\u001b[0m \u001b[0;34m\u001b[0m\u001b[0m\n\u001b[1;32m   1842\u001b[0m \u001b[0;34m\u001b[0m\u001b[0m\n",
      "\u001b[0;32m/Library/Python/2.7/site-packages/numpy/core/_methods.pyc\u001b[0m in \u001b[0;36m_sum\u001b[0;34m(a, axis, dtype, out, keepdims)\u001b[0m\n\u001b[1;32m     30\u001b[0m \u001b[0;34m\u001b[0m\u001b[0m\n\u001b[1;32m     31\u001b[0m \u001b[0;32mdef\u001b[0m \u001b[0m_sum\u001b[0m\u001b[0;34m(\u001b[0m\u001b[0ma\u001b[0m\u001b[0;34m,\u001b[0m \u001b[0maxis\u001b[0m\u001b[0;34m=\u001b[0m\u001b[0mNone\u001b[0m\u001b[0;34m,\u001b[0m \u001b[0mdtype\u001b[0m\u001b[0;34m=\u001b[0m\u001b[0mNone\u001b[0m\u001b[0;34m,\u001b[0m \u001b[0mout\u001b[0m\u001b[0;34m=\u001b[0m\u001b[0mNone\u001b[0m\u001b[0;34m,\u001b[0m \u001b[0mkeepdims\u001b[0m\u001b[0;34m=\u001b[0m\u001b[0mFalse\u001b[0m\u001b[0;34m)\u001b[0m\u001b[0;34m:\u001b[0m\u001b[0;34m\u001b[0m\u001b[0m\n\u001b[0;32m---> 32\u001b[0;31m     \u001b[0;32mreturn\u001b[0m \u001b[0mumr_sum\u001b[0m\u001b[0;34m(\u001b[0m\u001b[0ma\u001b[0m\u001b[0;34m,\u001b[0m \u001b[0maxis\u001b[0m\u001b[0;34m,\u001b[0m \u001b[0mdtype\u001b[0m\u001b[0;34m,\u001b[0m \u001b[0mout\u001b[0m\u001b[0;34m,\u001b[0m \u001b[0mkeepdims\u001b[0m\u001b[0;34m)\u001b[0m\u001b[0;34m\u001b[0m\u001b[0m\n\u001b[0m\u001b[1;32m     33\u001b[0m \u001b[0;34m\u001b[0m\u001b[0m\n\u001b[1;32m     34\u001b[0m \u001b[0;32mdef\u001b[0m \u001b[0m_prod\u001b[0m\u001b[0;34m(\u001b[0m\u001b[0ma\u001b[0m\u001b[0;34m,\u001b[0m \u001b[0maxis\u001b[0m\u001b[0;34m=\u001b[0m\u001b[0mNone\u001b[0m\u001b[0;34m,\u001b[0m \u001b[0mdtype\u001b[0m\u001b[0;34m=\u001b[0m\u001b[0mNone\u001b[0m\u001b[0;34m,\u001b[0m \u001b[0mout\u001b[0m\u001b[0;34m=\u001b[0m\u001b[0mNone\u001b[0m\u001b[0;34m,\u001b[0m \u001b[0mkeepdims\u001b[0m\u001b[0;34m=\u001b[0m\u001b[0mFalse\u001b[0m\u001b[0;34m)\u001b[0m\u001b[0;34m:\u001b[0m\u001b[0;34m\u001b[0m\u001b[0m\n",
      "\u001b[0;31mValueError\u001b[0m: 'axis' entry is out of bounds"
     ]
    }
   ],
   "source": [
    "a = A[0]\n",
    "ll,mm = 2,1\n",
    "Y = gwylm( a, lm=[ll,mm], clean=True, dt=0.5, verbose=True )\n",
    "print a.mf,a.xf\n",
    "a.mf,a.xf = Mf14067295(e.m1,e.m2,e.S1[-1]/(e.m1**2),e.S2[-1]/(e.m2**2)),jf14067295(e.m1,e.m2,e.S1[-1]/(e.m1**2),e.S2[-1]/(e.m2**2))\n",
    "# Y.brute_masspin(apply_result=True)\n",
    "# Y = gwylm( a, lm=[(ll,mm)], clean=True, dt=0.35 )"
   ]
  },
  {
   "cell_type": "code",
   "execution_count": null,
   "metadata": {
    "collapsed": false
   },
   "outputs": [],
   "source": [
    "ax,fig = Y.lm[ll,mm]['strain'].plot(domain='freq')\n",
    "# ax[0].set_xlim([2620,2780])\n",
    "# ax[0].set_yscale('log')\n",
    "# ax[0].set_ylim([1e-4,0.1])\n",
    "# from kerr import leaver\n",
    "for a in ax:\n",
    "    a.axvline( leaver(Y.xf,2,2,Mf=Y.mf)[0].real/(2*pi),color='r',linestyle='--', label='(2,2)' )\n",
    "    a.axvline( leaver(Y.xf,3,3,Mf=Y.mf)[0].real/(2*pi),color='b',linestyle='--', label='(3,3)' )\n",
    "    a.axvline( leaver(Y.xf,4,4,Mf=Y.mf)[0].real/(2*pi),color='g',linestyle='--', label='(4,4)' )\n",
    "    a.axvline( leaver(Y.xf,5,5,Mf=Y.mf)[0].real/(2*pi),color='m',linestyle='--', label='(5,5)' )\n",
    "ax[0].legend(frameon=False,loc='upper left')"
   ]
  },
  {
   "cell_type": "code",
   "execution_count": null,
   "metadata": {
    "collapsed": false
   },
   "outputs": [],
   "source": [
    "Y.calcflm()\n",
    "\n",
    "hh = Y.lm[2,2]['strain']\n",
    "# print h.intrp_t_amp_max\n",
    "\n",
    "ff = Y.lm[2,2]['news']\n",
    "print hh.intrp_t_amp_max-ff.intrp_t_amp_max\n"
   ]
  },
  {
   "cell_type": "markdown",
   "metadata": {},
   "source": [
    "## Try to fit the ringdown using the qnmfit class"
   ]
  },
  {
   "cell_type": "code",
   "execution_count": null,
   "metadata": {
    "collapsed": false,
    "scrolled": false
   },
   "outputs": [],
   "source": [
    "close('all')\n",
    "dtfh = hh.intrp_t_amp_max-ff.intrp_t_amp_max\n",
    "y = Y.ringdown(T0=20,T1=None,use_peak_strain=not True,verbose=True)\n",
    "\n",
    "#\n",
    "j=0\n",
    "# print Y.xf,Y.mf\n",
    "g = y.lm[ll,mm]['psi4']\n",
    "\n",
    "f = qnmfit( g, verbose=True, greedy=True, prange=None )\n",
    "#\n",
    "f.plot(imrgwfo=Y.ylm[j])\n",
    "# f.plot_beta_arr()\n",
    "\n",
    "# print f.homez\n",
    "print abs(f.iamap[f.homez])\n",
    "print f.xf\n",
    "print f.homez\n",
    "\n",
    "f.plot_beta_arr()"
   ]
  },
  {
   "cell_type": "code",
   "execution_count": null,
   "metadata": {
    "collapsed": true
   },
   "outputs": [],
   "source": []
  }
 ],
 "metadata": {
  "kernelspec": {
   "display_name": "Python [Root]",
   "language": "python",
   "name": "Python [Root]"
  },
  "language_info": {
   "codemirror_mode": {
    "name": "ipython",
    "version": 2
   },
   "file_extension": ".py",
   "mimetype": "text/x-python",
   "name": "python",
   "nbconvert_exporter": "python",
   "pygments_lexer": "ipython2",
   "version": "2.7.12"
  }
 },
 "nbformat": 4,
 "nbformat_minor": 0
}
